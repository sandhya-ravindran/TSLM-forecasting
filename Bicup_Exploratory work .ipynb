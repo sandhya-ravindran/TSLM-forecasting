{
 "cells": [
  {
   "cell_type": "markdown",
   "metadata": {},
   "source": [
    "# Forecasting Bike Demand for a Bike sharing service.\n",
    "\n",
    "Boston city has bike sharing facilities. We want to understand the nature of the demand.Our data set has columns like the date, time and demand during the time.\n"
   ]
  },
  {
   "cell_type": "code",
   "execution_count": null,
   "metadata": {
    "scrolled": false
   },
   "outputs": [],
   "source": [
    "# install packages\n",
    "install.packages('forecast')\n",
    "install.packages('ggplot2')\n",
    "install.packages('ggthemes')\n",
    "install.packages('corrgram')"
   ]
  },
  {
   "cell_type": "code",
   "execution_count": 258,
   "metadata": {
    "scrolled": true
   },
   "outputs": [],
   "source": [
    "#Calling packages\n",
    "library('forecast')\n",
    "library('ggplot2')\n",
    "library('ggthemes')\n",
    "library('corrgram')"
   ]
  },
  {
   "cell_type": "markdown",
   "metadata": {},
   "source": [
    "## Data Cleaning\n",
    "By running a summary() on the data frame, we can understand that the data has about 189 NA's. Our Date and Time attributes look factorized."
   ]
  },
  {
   "cell_type": "code",
   "execution_count": 270,
   "metadata": {},
   "outputs": [
    {
     "data": {
      "text/html": [
       "<table>\n",
       "<thead><tr><th scope=col>DATE</th><th scope=col>TIME</th><th scope=col>DEMAND</th></tr></thead>\n",
       "<tbody>\n",
       "\t<tr><td>1-Mar-05</td><td>6:30    </td><td> 1      </td></tr>\n",
       "\t<tr><td>1-Mar-05</td><td>6:45    </td><td> 2      </td></tr>\n",
       "\t<tr><td>1-Mar-05</td><td>7:00    </td><td> 4      </td></tr>\n",
       "\t<tr><td>1-Mar-05</td><td>7:15    </td><td> 0      </td></tr>\n",
       "\t<tr><td>1-Mar-05</td><td>7:30    </td><td>10      </td></tr>\n",
       "\t<tr><td>1-Mar-05</td><td>7:45    </td><td>13      </td></tr>\n",
       "</tbody>\n",
       "</table>\n"
      ],
      "text/latex": [
       "\\begin{tabular}{r|lll}\n",
       " DATE & TIME & DEMAND\\\\\n",
       "\\hline\n",
       "\t 1-Mar-05 & 6:30     &  1      \\\\\n",
       "\t 1-Mar-05 & 6:45     &  2      \\\\\n",
       "\t 1-Mar-05 & 7:00     &  4      \\\\\n",
       "\t 1-Mar-05 & 7:15     &  0      \\\\\n",
       "\t 1-Mar-05 & 7:30     & 10      \\\\\n",
       "\t 1-Mar-05 & 7:45     & 13      \\\\\n",
       "\\end{tabular}\n"
      ],
      "text/markdown": [
       "\n",
       "| DATE | TIME | DEMAND |\n",
       "|---|---|---|\n",
       "| 1-Mar-05 | 6:30     |  1       |\n",
       "| 1-Mar-05 | 6:45     |  2       |\n",
       "| 1-Mar-05 | 7:00     |  4       |\n",
       "| 1-Mar-05 | 7:15     |  0       |\n",
       "| 1-Mar-05 | 7:30     | 10       |\n",
       "| 1-Mar-05 | 7:45     | 13       |\n",
       "\n"
      ],
      "text/plain": [
       "  DATE     TIME DEMAND\n",
       "1 1-Mar-05 6:30  1    \n",
       "2 1-Mar-05 6:45  2    \n",
       "3 1-Mar-05 7:00  4    \n",
       "4 1-Mar-05 7:15  0    \n",
       "5 1-Mar-05 7:30 10    \n",
       "6 1-Mar-05 7:45 13    "
      ]
     },
     "metadata": {},
     "output_type": "display_data"
    },
    {
     "data": {
      "text/plain": [
       "        DATE           TIME          DEMAND      \n",
       " 1-Mar-05 :  63   10:00  :  24   Min.   :  0.00  \n",
       " 10-Mar-05:  63   10:15  :  24   1st Qu.:  4.00  \n",
       " 11-Mar-05:  63   10:30  :  24   Median : 23.00  \n",
       " 12-Mar-05:  63   10:45  :  24   Mean   : 25.87  \n",
       " 13-Mar-05:  63   11:00  :  24   3rd Qu.: 40.00  \n",
       " 14-Mar-05:  63   11:15  :  24   Max.   :136.00  \n",
       " (Other)  :1134   (Other):1368   NA's   :189     "
      ]
     },
     "metadata": {},
     "output_type": "display_data"
    }
   ],
   "source": [
    "bicup.df <- read.csv(\"C:/Users/Sandhya Ravindran/Desktop/r_wd/bicup2006.csv\")\n",
    "head(bicup.df)\n",
    "summary(bicup.df)"
   ]
  },
  {
   "cell_type": "code",
   "execution_count": 271,
   "metadata": {
    "scrolled": true
   },
   "outputs": [
    {
     "name": "stdout",
     "output_type": "stream",
     "text": [
      "'data.frame':\t1512 obs. of  3 variables:\n",
      " $ DATE  : Factor w/ 24 levels \"1-Mar-05\",\"10-Mar-05\",..: 1 1 1 1 1 1 1 1 1 1 ...\n",
      " $ TIME  : Factor w/ 63 levels \"10:00\",\"10:15\",..: 50 51 52 53 54 55 56 57 58 59 ...\n",
      " $ DEMAND: int  1 2 4 0 10 13 18 19 23 13 ...\n"
     ]
    },
    {
     "data": {
      "text/html": [
       "<ol class=list-inline>\n",
       "\t<li>'1-Mar-05'</li>\n",
       "\t<li>'10-Mar-05'</li>\n",
       "\t<li>'11-Mar-05'</li>\n",
       "\t<li>'12-Mar-05'</li>\n",
       "\t<li>'13-Mar-05'</li>\n",
       "\t<li>'14-Mar-05'</li>\n",
       "\t<li>'15-Mar-05'</li>\n",
       "\t<li>'16-Mar-05'</li>\n",
       "\t<li>'17-Mar-05'</li>\n",
       "\t<li>'18-Mar-05'</li>\n",
       "\t<li>'19-Mar-05'</li>\n",
       "\t<li>'2-Mar-05'</li>\n",
       "\t<li>'20-Mar-05'</li>\n",
       "\t<li>'21-Mar-05'</li>\n",
       "\t<li>'22-Mar-05'</li>\n",
       "\t<li>'23-Mar-05'</li>\n",
       "\t<li>'24-Mar-05'</li>\n",
       "\t<li>'3-Mar-05'</li>\n",
       "\t<li>'4-Mar-05'</li>\n",
       "\t<li>'5-Mar-05'</li>\n",
       "\t<li>'6-Mar-05'</li>\n",
       "\t<li>'7-Mar-05'</li>\n",
       "\t<li>'8-Mar-05'</li>\n",
       "\t<li>'9-Mar-05'</li>\n",
       "</ol>\n"
      ],
      "text/latex": [
       "\\begin{enumerate*}\n",
       "\\item '1-Mar-05'\n",
       "\\item '10-Mar-05'\n",
       "\\item '11-Mar-05'\n",
       "\\item '12-Mar-05'\n",
       "\\item '13-Mar-05'\n",
       "\\item '14-Mar-05'\n",
       "\\item '15-Mar-05'\n",
       "\\item '16-Mar-05'\n",
       "\\item '17-Mar-05'\n",
       "\\item '18-Mar-05'\n",
       "\\item '19-Mar-05'\n",
       "\\item '2-Mar-05'\n",
       "\\item '20-Mar-05'\n",
       "\\item '21-Mar-05'\n",
       "\\item '22-Mar-05'\n",
       "\\item '23-Mar-05'\n",
       "\\item '24-Mar-05'\n",
       "\\item '3-Mar-05'\n",
       "\\item '4-Mar-05'\n",
       "\\item '5-Mar-05'\n",
       "\\item '6-Mar-05'\n",
       "\\item '7-Mar-05'\n",
       "\\item '8-Mar-05'\n",
       "\\item '9-Mar-05'\n",
       "\\end{enumerate*}\n"
      ],
      "text/markdown": [
       "1. '1-Mar-05'\n",
       "2. '10-Mar-05'\n",
       "3. '11-Mar-05'\n",
       "4. '12-Mar-05'\n",
       "5. '13-Mar-05'\n",
       "6. '14-Mar-05'\n",
       "7. '15-Mar-05'\n",
       "8. '16-Mar-05'\n",
       "9. '17-Mar-05'\n",
       "10. '18-Mar-05'\n",
       "11. '19-Mar-05'\n",
       "12. '2-Mar-05'\n",
       "13. '20-Mar-05'\n",
       "14. '21-Mar-05'\n",
       "15. '22-Mar-05'\n",
       "16. '23-Mar-05'\n",
       "17. '24-Mar-05'\n",
       "18. '3-Mar-05'\n",
       "19. '4-Mar-05'\n",
       "20. '5-Mar-05'\n",
       "21. '6-Mar-05'\n",
       "22. '7-Mar-05'\n",
       "23. '8-Mar-05'\n",
       "24. '9-Mar-05'\n",
       "\n",
       "\n"
      ],
      "text/plain": [
       " [1] \"1-Mar-05\"  \"10-Mar-05\" \"11-Mar-05\" \"12-Mar-05\" \"13-Mar-05\" \"14-Mar-05\"\n",
       " [7] \"15-Mar-05\" \"16-Mar-05\" \"17-Mar-05\" \"18-Mar-05\" \"19-Mar-05\" \"2-Mar-05\" \n",
       "[13] \"20-Mar-05\" \"21-Mar-05\" \"22-Mar-05\" \"23-Mar-05\" \"24-Mar-05\" \"3-Mar-05\" \n",
       "[19] \"4-Mar-05\"  \"5-Mar-05\"  \"6-Mar-05\"  \"7-Mar-05\"  \"8-Mar-05\"  \"9-Mar-05\" "
      ]
     },
     "metadata": {},
     "output_type": "display_data"
    },
    {
     "data": {
      "text/html": [
       "<ol class=list-inline>\n",
       "\t<li>'10:00'</li>\n",
       "\t<li>'10:15'</li>\n",
       "\t<li>'10:30'</li>\n",
       "\t<li>'10:45'</li>\n",
       "\t<li>'11:00'</li>\n",
       "\t<li>'11:15'</li>\n",
       "\t<li>'11:30'</li>\n",
       "\t<li>'11:45'</li>\n",
       "\t<li>'12:00'</li>\n",
       "\t<li>'12:15'</li>\n",
       "\t<li>'12:30'</li>\n",
       "\t<li>'12:45'</li>\n",
       "\t<li>'13:00'</li>\n",
       "\t<li>'13:15'</li>\n",
       "\t<li>'13:30'</li>\n",
       "\t<li>'13:45'</li>\n",
       "\t<li>'14:00'</li>\n",
       "\t<li>'14:15'</li>\n",
       "\t<li>'14:30'</li>\n",
       "\t<li>'14:45'</li>\n",
       "\t<li>'15:00'</li>\n",
       "\t<li>'15:15'</li>\n",
       "\t<li>'15:30'</li>\n",
       "\t<li>'15:45'</li>\n",
       "\t<li>'16:00'</li>\n",
       "\t<li>'16:15'</li>\n",
       "\t<li>'16:30'</li>\n",
       "\t<li>'16:45'</li>\n",
       "\t<li>'17:00'</li>\n",
       "\t<li>'17:15'</li>\n",
       "\t<li>'17:30'</li>\n",
       "\t<li>'17:45'</li>\n",
       "\t<li>'18:00'</li>\n",
       "\t<li>'18:15'</li>\n",
       "\t<li>'18:30'</li>\n",
       "\t<li>'18:45'</li>\n",
       "\t<li>'19:00'</li>\n",
       "\t<li>'19:15'</li>\n",
       "\t<li>'19:30'</li>\n",
       "\t<li>'19:45'</li>\n",
       "\t<li>'20:00'</li>\n",
       "\t<li>'20:15'</li>\n",
       "\t<li>'20:30'</li>\n",
       "\t<li>'20:45'</li>\n",
       "\t<li>'21:00'</li>\n",
       "\t<li>'21:15'</li>\n",
       "\t<li>'21:30'</li>\n",
       "\t<li>'21:45'</li>\n",
       "\t<li>'22:00'</li>\n",
       "\t<li>'6:30'</li>\n",
       "\t<li>'6:45'</li>\n",
       "\t<li>'7:00'</li>\n",
       "\t<li>'7:15'</li>\n",
       "\t<li>'7:30'</li>\n",
       "\t<li>'7:45'</li>\n",
       "\t<li>'8:00'</li>\n",
       "\t<li>'8:15'</li>\n",
       "\t<li>'8:30'</li>\n",
       "\t<li>'8:45'</li>\n",
       "\t<li>'9:00'</li>\n",
       "\t<li>'9:15'</li>\n",
       "\t<li>'9:30'</li>\n",
       "\t<li>'9:45'</li>\n",
       "</ol>\n"
      ],
      "text/latex": [
       "\\begin{enumerate*}\n",
       "\\item '10:00'\n",
       "\\item '10:15'\n",
       "\\item '10:30'\n",
       "\\item '10:45'\n",
       "\\item '11:00'\n",
       "\\item '11:15'\n",
       "\\item '11:30'\n",
       "\\item '11:45'\n",
       "\\item '12:00'\n",
       "\\item '12:15'\n",
       "\\item '12:30'\n",
       "\\item '12:45'\n",
       "\\item '13:00'\n",
       "\\item '13:15'\n",
       "\\item '13:30'\n",
       "\\item '13:45'\n",
       "\\item '14:00'\n",
       "\\item '14:15'\n",
       "\\item '14:30'\n",
       "\\item '14:45'\n",
       "\\item '15:00'\n",
       "\\item '15:15'\n",
       "\\item '15:30'\n",
       "\\item '15:45'\n",
       "\\item '16:00'\n",
       "\\item '16:15'\n",
       "\\item '16:30'\n",
       "\\item '16:45'\n",
       "\\item '17:00'\n",
       "\\item '17:15'\n",
       "\\item '17:30'\n",
       "\\item '17:45'\n",
       "\\item '18:00'\n",
       "\\item '18:15'\n",
       "\\item '18:30'\n",
       "\\item '18:45'\n",
       "\\item '19:00'\n",
       "\\item '19:15'\n",
       "\\item '19:30'\n",
       "\\item '19:45'\n",
       "\\item '20:00'\n",
       "\\item '20:15'\n",
       "\\item '20:30'\n",
       "\\item '20:45'\n",
       "\\item '21:00'\n",
       "\\item '21:15'\n",
       "\\item '21:30'\n",
       "\\item '21:45'\n",
       "\\item '22:00'\n",
       "\\item '6:30'\n",
       "\\item '6:45'\n",
       "\\item '7:00'\n",
       "\\item '7:15'\n",
       "\\item '7:30'\n",
       "\\item '7:45'\n",
       "\\item '8:00'\n",
       "\\item '8:15'\n",
       "\\item '8:30'\n",
       "\\item '8:45'\n",
       "\\item '9:00'\n",
       "\\item '9:15'\n",
       "\\item '9:30'\n",
       "\\item '9:45'\n",
       "\\end{enumerate*}\n"
      ],
      "text/markdown": [
       "1. '10:00'\n",
       "2. '10:15'\n",
       "3. '10:30'\n",
       "4. '10:45'\n",
       "5. '11:00'\n",
       "6. '11:15'\n",
       "7. '11:30'\n",
       "8. '11:45'\n",
       "9. '12:00'\n",
       "10. '12:15'\n",
       "11. '12:30'\n",
       "12. '12:45'\n",
       "13. '13:00'\n",
       "14. '13:15'\n",
       "15. '13:30'\n",
       "16. '13:45'\n",
       "17. '14:00'\n",
       "18. '14:15'\n",
       "19. '14:30'\n",
       "20. '14:45'\n",
       "21. '15:00'\n",
       "22. '15:15'\n",
       "23. '15:30'\n",
       "24. '15:45'\n",
       "25. '16:00'\n",
       "26. '16:15'\n",
       "27. '16:30'\n",
       "28. '16:45'\n",
       "29. '17:00'\n",
       "30. '17:15'\n",
       "31. '17:30'\n",
       "32. '17:45'\n",
       "33. '18:00'\n",
       "34. '18:15'\n",
       "35. '18:30'\n",
       "36. '18:45'\n",
       "37. '19:00'\n",
       "38. '19:15'\n",
       "39. '19:30'\n",
       "40. '19:45'\n",
       "41. '20:00'\n",
       "42. '20:15'\n",
       "43. '20:30'\n",
       "44. '20:45'\n",
       "45. '21:00'\n",
       "46. '21:15'\n",
       "47. '21:30'\n",
       "48. '21:45'\n",
       "49. '22:00'\n",
       "50. '6:30'\n",
       "51. '6:45'\n",
       "52. '7:00'\n",
       "53. '7:15'\n",
       "54. '7:30'\n",
       "55. '7:45'\n",
       "56. '8:00'\n",
       "57. '8:15'\n",
       "58. '8:30'\n",
       "59. '8:45'\n",
       "60. '9:00'\n",
       "61. '9:15'\n",
       "62. '9:30'\n",
       "63. '9:45'\n",
       "\n",
       "\n"
      ],
      "text/plain": [
       " [1] \"10:00\" \"10:15\" \"10:30\" \"10:45\" \"11:00\" \"11:15\" \"11:30\" \"11:45\" \"12:00\"\n",
       "[10] \"12:15\" \"12:30\" \"12:45\" \"13:00\" \"13:15\" \"13:30\" \"13:45\" \"14:00\" \"14:15\"\n",
       "[19] \"14:30\" \"14:45\" \"15:00\" \"15:15\" \"15:30\" \"15:45\" \"16:00\" \"16:15\" \"16:30\"\n",
       "[28] \"16:45\" \"17:00\" \"17:15\" \"17:30\" \"17:45\" \"18:00\" \"18:15\" \"18:30\" \"18:45\"\n",
       "[37] \"19:00\" \"19:15\" \"19:30\" \"19:45\" \"20:00\" \"20:15\" \"20:30\" \"20:45\" \"21:00\"\n",
       "[46] \"21:15\" \"21:30\" \"21:45\" \"22:00\" \"6:30\"  \"6:45\"  \"7:00\"  \"7:15\"  \"7:30\" \n",
       "[55] \"7:45\"  \"8:00\"  \"8:15\"  \"8:30\"  \"8:45\"  \"9:00\"  \"9:15\"  \"9:30\"  \"9:45\" "
      ]
     },
     "metadata": {},
     "output_type": "display_data"
    }
   ],
   "source": [
    "str(bicup.df)\n",
    "levels(bicup.df$DATE)\n",
    "levels(bicup.df$TIME)"
   ]
  },
  {
   "cell_type": "markdown",
   "metadata": {},
   "source": [
    "## EDA"
   ]
  },
  {
   "cell_type": "markdown",
   "metadata": {},
   "source": [
    "Our data column has 24 levels (about 3.43 weeks). Time column has values recorded every 15 mins. let's make a column for the day of the week and check for patterns."
   ]
  },
  {
   "cell_type": "code",
   "execution_count": 273,
   "metadata": {
    "scrolled": false
   },
   "outputs": [],
   "source": [
    "#adding day\n",
    "bicup.df.ploter <- bicup.df\n",
    "DAY_OF_WEEK <- rep(rep(c(1:7),each = 63),4)\n",
    "bicup.df.ploter$DAY_OF_WEEK <- DAY_OF_WEEK[1:dim(bicup.df)[1]]\n",
    "bicup.df.ploter$DAY_OF_WEEK <- as.factor(bicup.df.ploter$DAY_OF_WEEK)"
   ]
  },
  {
   "cell_type": "code",
   "execution_count": 268,
   "metadata": {
    "scrolled": true
   },
   "outputs": [
       {
     "data": {
      "image/png": "[encoded data removed]",
      "text/plain": [
       "plot without title"
      ]
     },
     "metadata": {},
     "output_type": "display_data"
    }
   ],
   "source": [
    "ggplot(bicup.df.ploter,aes(DAY_OF_WEEK,DEMAND))+ geom_point(alpha=0.6,color='yellow')+theme_bw()"
   ]
  },
  {
   "cell_type": "markdown",
   "metadata": {},
   "source": [
    "Voila!"
   ]
  }
 ],
 "metadata": {
  "kernelspec": {
   "display_name": "R",
   "language": "R",
   "name": "ir"
  },
  "language_info": {
   "codemirror_mode": "r",
   "file_extension": ".r",
   "mimetype": "text/x-r-source",
   "name": "R",
   "pygments_lexer": "r",
   "version": "3.5.1"
  }
 },
 "nbformat": 4,
 "nbformat_minor": 2
}
