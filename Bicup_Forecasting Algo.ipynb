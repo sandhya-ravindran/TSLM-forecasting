{
 "cells": [
  {
   "cell_type": "markdown",
   "metadata": {},
   "source": [
    "# Forecasting Bike Demand for a Bike sharing service - Part 2\n",
    "\n",
    "Boston city has bike sharing facilities. We want to understand the nature of the demand.Our data set has columns like the date, time and demand during the time.\n",
    "\n",
    "We saw from our Exploratory Data Analysis that there is a weekly pattern for the demand for bikes.In this section we will try to predict the last 3 days of the data based off of the first 21 days using time series."
   ]
  },
  {
   "cell_type": "code",
   "execution_count": 153,
   "metadata": {},
   "outputs": [],
   "source": [
    "# install packages\n",
    "\n",
    "install.packages('forecast')\n",
    "install.packages('ggplot2')\n",
    "install.packages('ggthemes')\n",
    "install.packages('ggfortify')"
   ]
  },
  {
   "cell_type": "code",
   "execution_count": 96,
   "metadata": {},
   "outputs": [],
   "source": [
    "# call packages\n",
    "\n",
    "library('forecast')\n",
    "library('ggplot2')\n",
    "library('ggthemes')\n",
    "library('ggfortify')"
   ]
  },
  {
   "cell_type": "code",
   "execution_count": 97,
   "metadata": {
    "scrolled": true
   },
   "outputs": [],
   "source": [
    "# Read Data\n",
    "\n",
    "bicup.df <- read.csv(\"C:/Users/Sandhya Ravindran/Desktop/r_wd/bicup2006.csv\")"
   ]
  },
  {
   "cell_type": "markdown",
   "metadata": {},
   "source": [
    "## Pre-Processing data \n",
    "Our data frame is factorized. Data has 24 levels, time column has 63 levels. lets create a new column for the day of week and factorize it with 7 levels."
   ]
  },
  {
   "cell_type": "code",
   "execution_count": 98,
   "metadata": {
    "scrolled": true
   },
   "outputs": [
    {
     "data": {
      "text/html": [
       "<ol class=list-inline>\n",
       "\t<li>'1'</li>\n",
       "\t<li>'2'</li>\n",
       "\t<li>'3'</li>\n",
       "\t<li>'4'</li>\n",
       "\t<li>'5'</li>\n",
       "\t<li>'6'</li>\n",
       "\t<li>'7'</li>\n",
       "</ol>\n"
      ],
      "text/latex": [
       "\\begin{enumerate*}\n",
       "\\item '1'\n",
       "\\item '2'\n",
       "\\item '3'\n",
       "\\item '4'\n",
       "\\item '5'\n",
       "\\item '6'\n",
       "\\item '7'\n",
       "\\end{enumerate*}\n"
      ],
      "text/markdown": [
       "1. '1'\n",
       "2. '2'\n",
       "3. '3'\n",
       "4. '4'\n",
       "5. '5'\n",
       "6. '6'\n",
       "7. '7'\n",
       "\n",
       "\n"
      ],
      "text/plain": [
       "[1] \"1\" \"2\" \"3\" \"4\" \"5\" \"6\" \"7\""
      ]
     },
     "metadata": {},
     "output_type": "display_data"
    }
   ],
   "source": [
    "# Lets start by creating a new column for the day of week and factorize it.\n",
    "\n",
    "day.of.week <- rep(rep(c(1:7),each = 63),4)\n",
    "bicup.df$DAY.OF.WEEK <- days[1:dim(bicup.df)[1]]\n",
    "bicup.df$DAY.OF.WEEK <- as.factor(bicup.df$DAY.OF.WEEK)\n",
    "levels(bicup.df$DAY.OF.WEEK)"
   ]
  },
  {
   "cell_type": "code",
   "execution_count": 151,
   "metadata": {},
   "outputs": [
    {
     "data": {
      "image/png": "[encoded data removed]",
      "text/plain": [
       "plot without title"
      ]
     },
     "metadata": {},
     "output_type": "display_data"
    }
   ],
   "source": [
    "# Lets create our time series object and plot\n",
    "\n",
    "bicup.ts <- ts(bicup.df$DEMAND, start =c(1,1), end = c(21,63), freq = 63)\n",
    "#autoplot(bicup.ts,ts.colour = '#40e0d0', ts.linetype = 'dashed')\n",
    "autoplot(bicup.ts,ts.geom = 'ribbon', fill= '#c6e2ff')"
   ]
  },
  {
   "cell_type": "markdown",
   "metadata": {},
   "source": [
    "We can see that our weekly fluctuations are roughly constant in size over time. Lets partition our data into train and validation sets. Lets set aside 3 more days for validation and train on the remaining data. "
   ]
  },
  {
   "cell_type": "code",
   "execution_count": 100,
   "metadata": {},
   "outputs": [
    {
     "data": {
      "text/html": [
       "<table>\n",
       "<thead><tr><th></th><th scope=col>DATE</th><th scope=col>TIME</th><th scope=col>DEMAND</th><th scope=col>DAY.OF.WEEK</th></tr></thead>\n",
       "<tbody>\n",
       "\t<tr><th scope=row>63</th><td>1-Mar-05</td><td>22:00   </td><td>8       </td><td>1       </td></tr>\n",
       "\t<tr><th scope=row>126</th><td>2-Mar-05</td><td>22:00   </td><td>9       </td><td>2       </td></tr>\n",
       "\t<tr><th scope=row>189</th><td>3-Mar-05</td><td>22:00   </td><td>3       </td><td>3       </td></tr>\n",
       "\t<tr><th scope=row>252</th><td>4-Mar-05</td><td>22:00   </td><td>5       </td><td>4       </td></tr>\n",
       "\t<tr><th scope=row>315</th><td>5-Mar-05</td><td>22:00   </td><td>0       </td><td>5       </td></tr>\n",
       "\t<tr><th scope=row>378</th><td>6-Mar-05</td><td>22:00   </td><td>0       </td><td>6       </td></tr>\n",
       "</tbody>\n",
       "</table>\n"
      ],
      "text/latex": [
       "\\begin{tabular}{r|llll}\n",
       "  & DATE & TIME & DEMAND & DAY.OF.WEEK\\\\\n",
       "\\hline\n",
       "\t63 & 1-Mar-05 & 22:00    & 8        & 1       \\\\\n",
       "\t126 & 2-Mar-05 & 22:00    & 9        & 2       \\\\\n",
       "\t189 & 3-Mar-05 & 22:00    & 3        & 3       \\\\\n",
       "\t252 & 4-Mar-05 & 22:00    & 5        & 4       \\\\\n",
       "\t315 & 5-Mar-05 & 22:00    & 0        & 5       \\\\\n",
       "\t378 & 6-Mar-05 & 22:00    & 0        & 6       \\\\\n",
       "\\end{tabular}\n"
      ],
      "text/markdown": [
       "\n",
       "| <!--/--> | DATE | TIME | DEMAND | DAY.OF.WEEK |\n",
       "|---|---|---|---|---|\n",
       "| 63 | 1-Mar-05 | 22:00    | 8        | 1        |\n",
       "| 126 | 2-Mar-05 | 22:00    | 9        | 2        |\n",
       "| 189 | 3-Mar-05 | 22:00    | 3        | 3        |\n",
       "| 252 | 4-Mar-05 | 22:00    | 5        | 4        |\n",
       "| 315 | 5-Mar-05 | 22:00    | 0        | 5        |\n",
       "| 378 | 6-Mar-05 | 22:00    | 0        | 6        |\n",
       "\n"
      ],
      "text/plain": [
       "    DATE     TIME  DEMAND DAY.OF.WEEK\n",
       "63  1-Mar-05 22:00 8      1          \n",
       "126 2-Mar-05 22:00 9      2          \n",
       "189 3-Mar-05 22:00 3      3          \n",
       "252 4-Mar-05 22:00 5      4          \n",
       "315 5-Mar-05 22:00 0      5          \n",
       "378 6-Mar-05 22:00 0      6          "
      ]
     },
     "metadata": {},
     "output_type": "display_data"
    },
    {
     "data": {
      "text/html": [
       "<table>\n",
       "<thead><tr><th></th><th scope=col>DATE</th><th scope=col>TIME</th><th scope=col>DEMAND</th><th scope=col>DAY.OF.WEEK</th></tr></thead>\n",
       "<tbody>\n",
       "\t<tr><th scope=row>1324</th><td>22-Mar-05</td><td>6:30     </td><td>NA       </td><td>1        </td></tr>\n",
       "\t<tr><th scope=row>1325</th><td>22-Mar-05</td><td>6:45     </td><td>NA       </td><td>1        </td></tr>\n",
       "\t<tr><th scope=row>1326</th><td>22-Mar-05</td><td>7:00     </td><td>NA       </td><td>1        </td></tr>\n",
       "\t<tr><th scope=row>1327</th><td>22-Mar-05</td><td>7:15     </td><td>NA       </td><td>1        </td></tr>\n",
       "\t<tr><th scope=row>1328</th><td>22-Mar-05</td><td>7:30     </td><td>NA       </td><td>1        </td></tr>\n",
       "\t<tr><th scope=row>1329</th><td>22-Mar-05</td><td>7:45     </td><td>NA       </td><td>1        </td></tr>\n",
       "</tbody>\n",
       "</table>\n"
      ],
      "text/latex": [
       "\\begin{tabular}{r|llll}\n",
       "  & DATE & TIME & DEMAND & DAY.OF.WEEK\\\\\n",
       "\\hline\n",
       "\t1324 & 22-Mar-05 & 6:30      & NA        & 1        \\\\\n",
       "\t1325 & 22-Mar-05 & 6:45      & NA        & 1        \\\\\n",
       "\t1326 & 22-Mar-05 & 7:00      & NA        & 1        \\\\\n",
       "\t1327 & 22-Mar-05 & 7:15      & NA        & 1        \\\\\n",
       "\t1328 & 22-Mar-05 & 7:30      & NA        & 1        \\\\\n",
       "\t1329 & 22-Mar-05 & 7:45      & NA        & 1        \\\\\n",
       "\\end{tabular}\n"
      ],
      "text/markdown": [
       "\n",
       "| <!--/--> | DATE | TIME | DEMAND | DAY.OF.WEEK |\n",
       "|---|---|---|---|---|\n",
       "| 1324 | 22-Mar-05 | 6:30      | NA        | 1         |\n",
       "| 1325 | 22-Mar-05 | 6:45      | NA        | 1         |\n",
       "| 1326 | 22-Mar-05 | 7:00      | NA        | 1         |\n",
       "| 1327 | 22-Mar-05 | 7:15      | NA        | 1         |\n",
       "| 1328 | 22-Mar-05 | 7:30      | NA        | 1         |\n",
       "| 1329 | 22-Mar-05 | 7:45      | NA        | 1         |\n",
       "\n"
      ],
      "text/plain": [
       "     DATE      TIME DEMAND DAY.OF.WEEK\n",
       "1324 22-Mar-05 6:30 NA     1          \n",
       "1325 22-Mar-05 6:45 NA     1          \n",
       "1326 22-Mar-05 7:00 NA     1          \n",
       "1327 22-Mar-05 7:15 NA     1          \n",
       "1328 22-Mar-05 7:30 NA     1          \n",
       "1329 22-Mar-05 7:45 NA     1          "
      ]
     },
     "metadata": {},
     "output_type": "display_data"
    }
   ],
   "source": [
    "# Data Partition \n",
    "\n",
    "train.ts <- window(bicup.ts, start = c(2,1), end = c(18,63))\n",
    "valid.ts <- window(bicup.ts, start = c(19,1), end = c(21,63))\n",
    "train.df <- bicup.df[1:18*63,]\n",
    "next3days.df <- bicup.df[(21*63+1):(24*63),]\n",
    "head(train.df)\n",
    "head(next3days.df)"
   ]
  },
  {
   "cell_type": "code",
   "execution_count": 152,
   "metadata": {},
   "outputs": [
       {
     "data": {
      "text/html": [
       "<table>\n",
       "<thead><tr><th></th><th scope=col>ME</th><th scope=col>RMSE</th><th scope=col>MAE</th><th scope=col>MPE</th><th scope=col>MAPE</th><th scope=col>ACF1</th><th scope=col>Theil's U</th></tr></thead>\n",
       "<tbody>\n",
       "\t<tr><th scope=row>Test set</th><td>29.27429 </td><td>29.39339 </td><td>29.27429 </td><td>91.97861 </td><td>91.97861 </td><td>0.2277623</td><td>3690.937 </td></tr>\n",
       "</tbody>\n",
       "</table>\n"
      ],
      "text/latex": [
       "\\begin{tabular}{r|lllllll}\n",
       "  & ME & RMSE & MAE & MPE & MAPE & ACF1 & Theil's U\\\\\n",
       "\\hline\n",
       "\tTest set & 29.27429  & 29.39339  & 29.27429  & 91.97861  & 91.97861  & 0.2277623 & 3690.937 \\\\\n",
       "\\end{tabular}\n"
      ],
      "text/markdown": [
       "\n",
       "| <!--/--> | ME | RMSE | MAE | MPE | MAPE | ACF1 | Theil's U |\n",
       "|---|---|---|---|---|---|---|---|\n",
       "| Test set | 29.27429  | 29.39339  | 29.27429  | 91.97861  | 91.97861  | 0.2277623 | 3690.937  |\n",
       "\n"
      ],
      "text/plain": [
       "         ME       RMSE     MAE      MPE      MAPE     ACF1      Theil's U\n",
       "Test set 29.27429 29.39339 29.27429 91.97861 91.97861 0.2277623 3690.937 "
      ]
     },
     "metadata": {},
     "output_type": "display_data"
    }
   ],
   "source": [
    "# Fitting model\n",
    "\n",
    "bicup.lm <- tslm(train.ts~trend, data = train.df)\n",
    "bicup.lm.pred <- forecast(bicup.lm, h= 63*3, level=0,newdata = train.df$DAY.OF.WEEK)\n",
    "accuracy(valid.ts,bicup.lm.pred$mean)"
   ]
  },
  {
   "cell_type": "code",
   "execution_count": 146,
   "metadata": {},
   "outputs": [
    {
     "data": {
      "image/png": "[encoded data removed]",
      "text/plain": [
       "plot without title"
      ]
     },
     "metadata": {},
     "output_type": "display_data"
    }
   ],
   "source": [
    "autoplot(bicup.lm.pred, ts.colour = '#868f98', predict.colour = '#d57946',\n",
    "         predict.linetype = 'dashed', conf.int = FALSE)"
   ]
  },
  {
   "cell_type": "code",
   "execution_count": 147,
   "metadata": {},
   "outputs": [],
   "source": [
    "bicup.lm.fulldata <- tslm(bicup.ts~trend, data = bicup.df[1:(21*63),])\n",
    "bicup.lm.next3days <- forecast(bicup.lm.fulldata, h=63*3,level=0,newdata=next3days.df)"
   ]
  },
  {
   "cell_type": "code",
   "execution_count": 150,
   "metadata": {},
   "outputs": [
    {
     "data": {
      "image/png": "[encoded data removed]",
      "text/plain": [
       "plot without title"
      ]
     },
     "metadata": {},
     "output_type": "display_data"
    }
   ],
   "source": [
    "autoplot(bicup.ts, ts.colour = '#868f98', xlab=\"time\",ylab = \"Demand\",xlim = c(0,25)) + autolayer(bicup.lm$fitted) +autolayer(bicup.lm.next3days$mean)+autolayer(bicup.lm.pred$mean)"
   ]
  }
 ],
 "metadata": {
  "kernelspec": {
   "display_name": "R",
   "language": "R",
   "name": "ir"
  },
  "language_info": {
   "codemirror_mode": "r",
   "file_extension": ".r",
   "mimetype": "text/x-r-source",
   "name": "R",
   "pygments_lexer": "r",
   "version": "3.5.1"
  }
 },
 "nbformat": 4,
 "nbformat_minor": 2
}
